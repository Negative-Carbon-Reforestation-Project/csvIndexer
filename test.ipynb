{
 "cells": [
  {
   "cell_type": "code",
   "execution_count": 1,
   "metadata": {
    "collapsed": true
   },
   "outputs": [],
   "source": [
    "import os.path\n",
    "\n",
    "import pandas as pd\n",
    "import glob\n",
    "import os\n",
    "\n",
    "files = glob.glob('C:/Users/liams/Documents/capstone gis data/data/processed/tree_species_stand_density' + '/*.csv')\n",
    "\n",
    "dataframes = []\n",
    "\n",
    "for path in files:\n",
    "    df = pd.read_csv(path).rename(columns={'norm_value': os.path.basename(path)})\n",
    "    df['long'] = df['long'].round(4)\n",
    "    df['lat'] = df['lat'].round(4)\n",
    "    df = df.set_index(['long', 'lat'])\n",
    "    dataframes.append(df)\n",
    "\n",
    "frame = pd.concat(dataframes, axis=1).fillna(0)"
   ]
  },
  {
   "cell_type": "code",
   "execution_count": 2,
   "outputs": [
    {
     "data": {
      "text/plain": "                   WA_pacific_yew_basal_area.csv  \\\nlong      lat                                      \n-121.4029 48.9996                       0.000000   \n-121.4026 48.9996                       0.012658   \n-121.4023 48.9996                       0.012658   \n-121.4021 48.9996                       0.069620   \n-121.4034 48.9994                       0.006329   \n...                                          ...   \n-121.4428 45.5719                       0.000000   \n-121.4325 45.5719                       0.000000   \n-121.4323 45.5719                       0.000000   \n-121.4320 45.5719                       0.000000   \n-121.4317 45.5719                       0.000000   \n\n                   WA_red_alder_stand_density.csv  \\\nlong      lat                                       \n-121.4029 48.9996                             0.0   \n-121.4026 48.9996                             0.0   \n-121.4023 48.9996                             0.0   \n-121.4021 48.9996                             0.0   \n-121.4034 48.9994                             0.0   \n...                                           ...   \n-121.4428 45.5719                             0.0   \n-121.4325 45.5719                             0.0   \n-121.4323 45.5719                             0.0   \n-121.4320 45.5719                             0.0   \n-121.4317 45.5719                             0.0   \n\n                   WA_sitka_spruce_stand_density.csv  \\\nlong      lat                                          \n-121.4029 48.9996                                0.0   \n-121.4026 48.9996                                0.0   \n-121.4023 48.9996                                0.0   \n-121.4021 48.9996                                0.0   \n-121.4034 48.9994                                0.0   \n...                                              ...   \n-121.4428 45.5719                                0.0   \n-121.4325 45.5719                                0.0   \n-121.4323 45.5719                                0.0   \n-121.4320 45.5719                                0.0   \n-121.4317 45.5719                                0.0   \n\n                   WA_western_hemlock_stand_density.csv  \nlong      lat                                            \n-121.4029 48.9996                              0.361914  \n-121.4026 48.9996                              0.204387  \n-121.4023 48.9996                              0.204387  \n-121.4021 48.9996                              0.156530  \n-121.4034 48.9994                              0.290130  \n...                                                 ...  \n-121.4428 45.5719                              0.093719  \n-121.4325 45.5719                              0.046859  \n-121.4323 45.5719                              0.154536  \n-121.4320 45.5719                              0.153539  \n-121.4317 45.5719                              0.085743  \n\n[99833231 rows x 4 columns]",
      "text/html": "<div>\n<style scoped>\n    .dataframe tbody tr th:only-of-type {\n        vertical-align: middle;\n    }\n\n    .dataframe tbody tr th {\n        vertical-align: top;\n    }\n\n    .dataframe thead th {\n        text-align: right;\n    }\n</style>\n<table border=\"1\" class=\"dataframe\">\n  <thead>\n    <tr style=\"text-align: right;\">\n      <th></th>\n      <th></th>\n      <th>WA_pacific_yew_basal_area.csv</th>\n      <th>WA_red_alder_stand_density.csv</th>\n      <th>WA_sitka_spruce_stand_density.csv</th>\n      <th>WA_western_hemlock_stand_density.csv</th>\n    </tr>\n    <tr>\n      <th>long</th>\n      <th>lat</th>\n      <th></th>\n      <th></th>\n      <th></th>\n      <th></th>\n    </tr>\n  </thead>\n  <tbody>\n    <tr>\n      <th>-121.4029</th>\n      <th>48.9996</th>\n      <td>0.000000</td>\n      <td>0.0</td>\n      <td>0.0</td>\n      <td>0.361914</td>\n    </tr>\n    <tr>\n      <th>-121.4026</th>\n      <th>48.9996</th>\n      <td>0.012658</td>\n      <td>0.0</td>\n      <td>0.0</td>\n      <td>0.204387</td>\n    </tr>\n    <tr>\n      <th>-121.4023</th>\n      <th>48.9996</th>\n      <td>0.012658</td>\n      <td>0.0</td>\n      <td>0.0</td>\n      <td>0.204387</td>\n    </tr>\n    <tr>\n      <th>-121.4021</th>\n      <th>48.9996</th>\n      <td>0.069620</td>\n      <td>0.0</td>\n      <td>0.0</td>\n      <td>0.156530</td>\n    </tr>\n    <tr>\n      <th>-121.4034</th>\n      <th>48.9994</th>\n      <td>0.006329</td>\n      <td>0.0</td>\n      <td>0.0</td>\n      <td>0.290130</td>\n    </tr>\n    <tr>\n      <th>...</th>\n      <th>...</th>\n      <td>...</td>\n      <td>...</td>\n      <td>...</td>\n      <td>...</td>\n    </tr>\n    <tr>\n      <th>-121.4428</th>\n      <th>45.5719</th>\n      <td>0.000000</td>\n      <td>0.0</td>\n      <td>0.0</td>\n      <td>0.093719</td>\n    </tr>\n    <tr>\n      <th>-121.4325</th>\n      <th>45.5719</th>\n      <td>0.000000</td>\n      <td>0.0</td>\n      <td>0.0</td>\n      <td>0.046859</td>\n    </tr>\n    <tr>\n      <th>-121.4323</th>\n      <th>45.5719</th>\n      <td>0.000000</td>\n      <td>0.0</td>\n      <td>0.0</td>\n      <td>0.154536</td>\n    </tr>\n    <tr>\n      <th>-121.4320</th>\n      <th>45.5719</th>\n      <td>0.000000</td>\n      <td>0.0</td>\n      <td>0.0</td>\n      <td>0.153539</td>\n    </tr>\n    <tr>\n      <th>-121.4317</th>\n      <th>45.5719</th>\n      <td>0.000000</td>\n      <td>0.0</td>\n      <td>0.0</td>\n      <td>0.085743</td>\n    </tr>\n  </tbody>\n</table>\n<p>99833231 rows × 4 columns</p>\n</div>"
     },
     "execution_count": 2,
     "metadata": {},
     "output_type": "execute_result"
    }
   ],
   "source": [
    "frame"
   ],
   "metadata": {
    "collapsed": false,
    "pycharm": {
     "name": "#%%\n"
    }
   }
  },
  {
   "cell_type": "code",
   "execution_count": 13,
   "outputs": [
    {
     "data": {
      "text/plain": "'cec0ee69f13239de668225118e227e85'"
     },
     "execution_count": 13,
     "metadata": {},
     "output_type": "execute_result"
    }
   ],
   "source": [
    "import hashlib\n",
    "\n",
    "hash = hashlib.md5()\n",
    "hash.update('-121.4029, 48.9996'.encode('utf8'))\n",
    "str(hash.hexdigest())"
   ],
   "metadata": {
    "collapsed": false,
    "pycharm": {
     "name": "#%%\n"
    }
   }
  },
  {
   "cell_type": "code",
   "execution_count": 17,
   "outputs": [],
   "source": [
    "index_list = frame.index.tolist()"
   ],
   "metadata": {
    "collapsed": false,
    "pycharm": {
     "name": "#%%\n"
    }
   }
  },
  {
   "cell_type": "code",
   "execution_count": 18,
   "outputs": [
    {
     "data": {
      "text/plain": "(-121.4029, 48.9996)"
     },
     "execution_count": 18,
     "metadata": {},
     "output_type": "execute_result"
    }
   ],
   "source": [
    "index_list[0]"
   ],
   "metadata": {
    "collapsed": false,
    "pycharm": {
     "name": "#%%\n"
    }
   }
  },
  {
   "cell_type": "code",
   "execution_count": null,
   "outputs": [],
   "source": [],
   "metadata": {
    "collapsed": false,
    "pycharm": {
     "name": "#%%\n"
    }
   }
  }
 ],
 "metadata": {
  "kernelspec": {
   "name": "pycharm-b25c6260",
   "language": "python",
   "display_name": "PyCharm (csvIndexer)"
  },
  "language_info": {
   "codemirror_mode": {
    "name": "ipython",
    "version": 2
   },
   "file_extension": ".py",
   "mimetype": "text/x-python",
   "name": "python",
   "nbconvert_exporter": "python",
   "pygments_lexer": "ipython2",
   "version": "2.7.6"
  }
 },
 "nbformat": 4,
 "nbformat_minor": 0
}