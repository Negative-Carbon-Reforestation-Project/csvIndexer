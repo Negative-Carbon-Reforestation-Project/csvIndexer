{
 "cells": [
  {
   "cell_type": "code",
   "execution_count": 54,
   "metadata": {
    "collapsed": true
   },
   "outputs": [],
   "source": [
    "import os.path\n",
    "\n",
    "import pandas as pd\n",
    "import glob\n",
    "import os\n",
    "\n",
    "dir = 'C:/Users/liams/Pictures/capstoneGIStiff/processed'\n",
    "\n",
    "files = glob.glob('C:/Users/liams/Pictures/capstoneGIStiff/processed' + '/*.csv')\n",
    "\n",
    "dataframes = []\n",
    "\n",
    "for path in files:\n",
    "    df = pd.read_csv(path).rename(columns={'norm_value': os.path.basename(path)})\n",
    "    df['long'] = df['long'].round(4)\n",
    "    df['lat'] = df['lat'].round(4)\n",
    "    df = df.set_index(['long', 'lat'])\n",
    "    dataframes.append(df)\n",
    "\n",
    "frame = pd.concat(dataframes, axis=1).fillna(0)"
   ]
  },
  {
   "cell_type": "code",
   "execution_count": 55,
   "outputs": [
    {
     "data": {
      "text/plain": "                   WA_red_alder_stand_density.csv  \\\nlong      lat                                       \n-122.6325 49.0010                        0.218944   \n-122.6074 49.0010                        0.187888   \n-122.1345 49.0010                        0.001553   \n-122.1342 49.0010                        0.001553   \n-123.0655 49.0009                        0.068323   \n...                                           ...   \n-123.7689 45.5719                        0.000000   \n-123.7686 45.5719                        0.000000   \n-123.7209 45.5719                        0.000000   \n-123.6794 45.5719                        0.000000   \n-123.6791 45.5719                        0.000000   \n\n                   WA_sitka_spruce_stand_density.csv  \nlong      lat                                         \n-122.6325 49.0010                           0.000000  \n-122.6074 49.0010                           0.000000  \n-122.1345 49.0010                           0.000000  \n-122.1342 49.0010                           0.000000  \n-123.0655 49.0009                           0.000000  \n...                                              ...  \n-123.7689 45.5719                           0.189655  \n-123.7686 45.5719                           0.189655  \n-123.7209 45.5719                           0.018678  \n-123.6794 45.5719                           0.035920  \n-123.6791 45.5719                           0.035920  \n\n[31449299 rows x 2 columns]",
      "text/html": "<div>\n<style scoped>\n    .dataframe tbody tr th:only-of-type {\n        vertical-align: middle;\n    }\n\n    .dataframe tbody tr th {\n        vertical-align: top;\n    }\n\n    .dataframe thead th {\n        text-align: right;\n    }\n</style>\n<table border=\"1\" class=\"dataframe\">\n  <thead>\n    <tr style=\"text-align: right;\">\n      <th></th>\n      <th></th>\n      <th>WA_red_alder_stand_density.csv</th>\n      <th>WA_sitka_spruce_stand_density.csv</th>\n    </tr>\n    <tr>\n      <th>long</th>\n      <th>lat</th>\n      <th></th>\n      <th></th>\n    </tr>\n  </thead>\n  <tbody>\n    <tr>\n      <th>-122.6325</th>\n      <th>49.0010</th>\n      <td>0.218944</td>\n      <td>0.000000</td>\n    </tr>\n    <tr>\n      <th>-122.6074</th>\n      <th>49.0010</th>\n      <td>0.187888</td>\n      <td>0.000000</td>\n    </tr>\n    <tr>\n      <th>-122.1345</th>\n      <th>49.0010</th>\n      <td>0.001553</td>\n      <td>0.000000</td>\n    </tr>\n    <tr>\n      <th>-122.1342</th>\n      <th>49.0010</th>\n      <td>0.001553</td>\n      <td>0.000000</td>\n    </tr>\n    <tr>\n      <th>-123.0655</th>\n      <th>49.0009</th>\n      <td>0.068323</td>\n      <td>0.000000</td>\n    </tr>\n    <tr>\n      <th>...</th>\n      <th>...</th>\n      <td>...</td>\n      <td>...</td>\n    </tr>\n    <tr>\n      <th>-123.7689</th>\n      <th>45.5719</th>\n      <td>0.000000</td>\n      <td>0.189655</td>\n    </tr>\n    <tr>\n      <th>-123.7686</th>\n      <th>45.5719</th>\n      <td>0.000000</td>\n      <td>0.189655</td>\n    </tr>\n    <tr>\n      <th>-123.7209</th>\n      <th>45.5719</th>\n      <td>0.000000</td>\n      <td>0.018678</td>\n    </tr>\n    <tr>\n      <th>-123.6794</th>\n      <th>45.5719</th>\n      <td>0.000000</td>\n      <td>0.035920</td>\n    </tr>\n    <tr>\n      <th>-123.6791</th>\n      <th>45.5719</th>\n      <td>0.000000</td>\n      <td>0.035920</td>\n    </tr>\n  </tbody>\n</table>\n<p>31449299 rows × 2 columns</p>\n</div>"
     },
     "execution_count": 55,
     "metadata": {},
     "output_type": "execute_result"
    }
   ],
   "source": [
    "frame"
   ],
   "metadata": {
    "collapsed": false,
    "pycharm": {
     "name": "#%%\n"
    }
   }
  },
  {
   "cell_type": "code",
   "execution_count": null,
   "outputs": [],
   "source": [],
   "metadata": {
    "collapsed": false,
    "pycharm": {
     "name": "#%%\n"
    }
   }
  }
 ],
 "metadata": {
  "kernelspec": {
   "display_name": "Python 3",
   "language": "python",
   "name": "python3"
  },
  "language_info": {
   "codemirror_mode": {
    "name": "ipython",
    "version": 2
   },
   "file_extension": ".py",
   "mimetype": "text/x-python",
   "name": "python",
   "nbconvert_exporter": "python",
   "pygments_lexer": "ipython2",
   "version": "2.7.6"
  }
 },
 "nbformat": 4,
 "nbformat_minor": 0
}