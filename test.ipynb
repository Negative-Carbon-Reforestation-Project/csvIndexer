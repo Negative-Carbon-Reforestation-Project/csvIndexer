{
 "cells": [
  {
   "cell_type": "code",
   "execution_count": 1,
   "metadata": {
    "collapsed": true,
    "pycharm": {
     "name": "#%%\n"
    }
   },
   "outputs": [
    {
     "name": "stdout",
     "output_type": "stream",
     "text": [
      "reading csv: WA_red_alder_stand_density.csv\n",
      "reading csv: WA_sitka_spruce_stand_density.csv\n",
      "formatting points\n",
      "generating ids\n"
     ]
    },
    {
     "data": {
      "text/plain": "                                  WA_red_alder_stand_density  \\\nid                                                             \n4b2b4bfc8e196ded06b5c7d53ad7f8c3                    0.218944   \n5996cc725cbfdd201993368134a0e75f                    0.187888   \n1e985a35ab080756c10a315d9ec54e02                    0.001553   \na08be0f67b987554b8d4a7a55db0ec69                    0.001553   \n8b20752a1dd72bfe75d565f5adebb048                    0.068323   \n...                                                      ...   \n81f91257f19cd02b2ecf100890effe47                    0.000000   \nb5755ba8524b74e0ef0ef9bb0dd442de                    0.000000   \n4d70d9369abcf0aefba7565d07525f48                    0.000000   \n4ed00ebb93fb9b04dfb39b6bb057aea0                    0.000000   \ne7288ea75003ec75c60b6213d22d3f99                    0.000000   \n\n                                  WA_sitka_spruce_stand_density  \\\nid                                                                \n4b2b4bfc8e196ded06b5c7d53ad7f8c3                       0.000000   \n5996cc725cbfdd201993368134a0e75f                       0.000000   \n1e985a35ab080756c10a315d9ec54e02                       0.000000   \na08be0f67b987554b8d4a7a55db0ec69                       0.000000   \n8b20752a1dd72bfe75d565f5adebb048                       0.000000   \n...                                                         ...   \n81f91257f19cd02b2ecf100890effe47                       0.189655   \nb5755ba8524b74e0ef0ef9bb0dd442de                       0.189655   \n4d70d9369abcf0aefba7565d07525f48                       0.018678   \n4ed00ebb93fb9b04dfb39b6bb057aea0                       0.035920   \ne7288ea75003ec75c60b6213d22d3f99                       0.035920   \n\n                                                 point  \nid                                                      \n4b2b4bfc8e196ded06b5c7d53ad7f8c3   [-122.6325, 49.001]  \n5996cc725cbfdd201993368134a0e75f   [-122.6074, 49.001]  \n1e985a35ab080756c10a315d9ec54e02   [-122.1345, 49.001]  \na08be0f67b987554b8d4a7a55db0ec69   [-122.1342, 49.001]  \n8b20752a1dd72bfe75d565f5adebb048  [-123.0655, 49.0009]  \n...                                                ...  \n81f91257f19cd02b2ecf100890effe47  [-123.7689, 45.5719]  \nb5755ba8524b74e0ef0ef9bb0dd442de  [-123.7686, 45.5719]  \n4d70d9369abcf0aefba7565d07525f48  [-123.7209, 45.5719]  \n4ed00ebb93fb9b04dfb39b6bb057aea0  [-123.6794, 45.5719]  \ne7288ea75003ec75c60b6213d22d3f99  [-123.6791, 45.5719]  \n\n[31449299 rows x 3 columns]",
      "text/html": "<div>\n<style scoped>\n    .dataframe tbody tr th:only-of-type {\n        vertical-align: middle;\n    }\n\n    .dataframe tbody tr th {\n        vertical-align: top;\n    }\n\n    .dataframe thead th {\n        text-align: right;\n    }\n</style>\n<table border=\"1\" class=\"dataframe\">\n  <thead>\n    <tr style=\"text-align: right;\">\n      <th></th>\n      <th>WA_red_alder_stand_density</th>\n      <th>WA_sitka_spruce_stand_density</th>\n      <th>point</th>\n    </tr>\n    <tr>\n      <th>id</th>\n      <th></th>\n      <th></th>\n      <th></th>\n    </tr>\n  </thead>\n  <tbody>\n    <tr>\n      <th>4b2b4bfc8e196ded06b5c7d53ad7f8c3</th>\n      <td>0.218944</td>\n      <td>0.000000</td>\n      <td>[-122.6325, 49.001]</td>\n    </tr>\n    <tr>\n      <th>5996cc725cbfdd201993368134a0e75f</th>\n      <td>0.187888</td>\n      <td>0.000000</td>\n      <td>[-122.6074, 49.001]</td>\n    </tr>\n    <tr>\n      <th>1e985a35ab080756c10a315d9ec54e02</th>\n      <td>0.001553</td>\n      <td>0.000000</td>\n      <td>[-122.1345, 49.001]</td>\n    </tr>\n    <tr>\n      <th>a08be0f67b987554b8d4a7a55db0ec69</th>\n      <td>0.001553</td>\n      <td>0.000000</td>\n      <td>[-122.1342, 49.001]</td>\n    </tr>\n    <tr>\n      <th>8b20752a1dd72bfe75d565f5adebb048</th>\n      <td>0.068323</td>\n      <td>0.000000</td>\n      <td>[-123.0655, 49.0009]</td>\n    </tr>\n    <tr>\n      <th>...</th>\n      <td>...</td>\n      <td>...</td>\n      <td>...</td>\n    </tr>\n    <tr>\n      <th>81f91257f19cd02b2ecf100890effe47</th>\n      <td>0.000000</td>\n      <td>0.189655</td>\n      <td>[-123.7689, 45.5719]</td>\n    </tr>\n    <tr>\n      <th>b5755ba8524b74e0ef0ef9bb0dd442de</th>\n      <td>0.000000</td>\n      <td>0.189655</td>\n      <td>[-123.7686, 45.5719]</td>\n    </tr>\n    <tr>\n      <th>4d70d9369abcf0aefba7565d07525f48</th>\n      <td>0.000000</td>\n      <td>0.018678</td>\n      <td>[-123.7209, 45.5719]</td>\n    </tr>\n    <tr>\n      <th>4ed00ebb93fb9b04dfb39b6bb057aea0</th>\n      <td>0.000000</td>\n      <td>0.035920</td>\n      <td>[-123.6794, 45.5719]</td>\n    </tr>\n    <tr>\n      <th>e7288ea75003ec75c60b6213d22d3f99</th>\n      <td>0.000000</td>\n      <td>0.035920</td>\n      <td>[-123.6791, 45.5719]</td>\n    </tr>\n  </tbody>\n</table>\n<p>31449299 rows × 3 columns</p>\n</div>"
     },
     "execution_count": 1,
     "metadata": {},
     "output_type": "execute_result"
    }
   ],
   "source": [
    "import gc\n",
    "import glob\n",
    "import os\n",
    "import hashlib\n",
    "import requests\n",
    "import warnings\n",
    "import numpy as np\n",
    "import pandas as pd\n",
    "\n",
    "from json.encoder import JSONEncoder\n",
    "\n",
    "files = glob.glob('C:/Users/liams/Pictures/capstoneGIStiff/processed' + '/*.csv')\n",
    "\n",
    "documents = pd.DataFrame()\n",
    "\n",
    "for path in files:\n",
    "    print('reading csv: ' + os.path.basename(path))\n",
    "    df = pd.read_csv(path).rename(columns={'norm_value': os.path.splitext(os.path.basename(path))[0]})\n",
    "    df['long'] = df['long'].round(4)\n",
    "    df['lat'] = df['lat'].round(4)\n",
    "    df = df.set_index(['long', 'lat'])\n",
    "    documents = pd.concat([documents, df], axis=1).fillna(0)\n",
    "\n",
    "    # collect garbage\n",
    "    del df\n",
    "    gc.collect()\n",
    "\n",
    "print('formatting points')\n",
    "# format coords as point\n",
    "points = [point for point in map(lambda p: list(p), documents.index.tolist())]\n",
    "documents['point'] = points\n",
    "\n",
    "print('generating ids')\n",
    "# hash points as doc ids\n",
    "ids = [id_ for id_ in\n",
    "       map(lambda coordinate: hashlib.md5(\n",
    "           str(str(coordinate[0]) + ', ' + str(coordinate[1])).encode('utf8')).hexdigest(), points)]\n",
    "documents['id'] = ids\n",
    "\n",
    "# collect garbage\n",
    "del points\n",
    "del ids\n",
    "gc.collect()\n",
    "\n",
    "documents = documents.set_index(['id'])\n",
    "documents"
   ]
  },
  {
   "cell_type": "code",
   "execution_count": 10,
   "outputs": [
    {
     "name": "stdout",
     "output_type": "stream",
     "text": [
      "indexing batch 1/1\r"
     ]
    }
   ],
   "source": [
    "# if previous file exists clean up\n",
    "if os.path.exists('temp_request_body'):\n",
    "    os.remove('temp_request_body')\n",
    "\n",
    "index = 'data'\n",
    "in_url = 'https://a5c25b2a219ff4e22a90c7e856963769-1337752311.us-west-2.elb.amazonaws.com'\n",
    "batch_size = 500\n",
    "num_batches = 1\n",
    "\n",
    "last_index = 0\n",
    "next_index = batch_size\n",
    "\n",
    "if num_batches < 0:\n",
    "    print('calculating batches')\n",
    "    num_batches = int(np.ceil(documents.shape[0] / batch_size))\n",
    "\n",
    "for batch in range(1, num_batches + 1):\n",
    "    print(f'indexing batch {batch}/{num_batches}', end='\\r')\n",
    "    request_body = open('temp_request_body', 'a')\n",
    "    json_documents = [doc for doc in map(lambda series: series.to_json(), documents[last_index:next_index].iloc)]\n",
    "\n",
    "    for id, doc in zip(documents.index, json_documents):\n",
    "        request_body.write(str(JSONEncoder().encode({\"index\": {\"_index\": index, \"_id\": id}}) + '\\n' + doc + '\\n'))\n",
    "    request_body.close()\n",
    "\n",
    "    # cleanup memory\n",
    "    del json_documents\n",
    "    gc.collect()\n",
    "\n",
    "    # post to server\n",
    "    url = in_url + ':9200/' + index + '/_bulk'\n",
    "    headers = {'Content-Type': 'application/json'}\n",
    "    data = open('temp_request_body', 'rb').read()\n",
    "\n",
    "    warnings.filterwarnings(\"ignore\")\n",
    "    response = requests.post(url=url, headers=headers, data=data, verify=False, auth=('admin', 'admin'))\n",
    "    warnings.filterwarnings(\"default\")\n",
    "\n",
    "    if not response.ok:\n",
    "        raise RuntimeError('The file was unable to upload successfully got status code: ' + response)\n",
    "\n",
    "    # clean up request body\n",
    "    os.remove('temp_request_body')\n",
    "\n",
    "    # select next batch\n",
    "    last_index = next_index\n",
    "    next_index += last_index\n",
    "\n",
    "print('Done!')"
   ],
   "metadata": {
    "collapsed": false,
    "pycharm": {
     "name": "#%%\n"
    }
   }
  },
  {
   "cell_type": "code",
   "execution_count": null,
   "outputs": [],
   "source": [],
   "metadata": {
    "collapsed": false,
    "pycharm": {
     "name": "#%%\n"
    }
   }
  }
 ],
 "metadata": {
  "kernelspec": {
   "name": "python3",
   "language": "python",
   "display_name": "Python 3 (ipykernel)"
  },
  "language_info": {
   "codemirror_mode": {
    "name": "ipython",
    "version": 2
   },
   "file_extension": ".py",
   "mimetype": "text/x-python",
   "name": "python",
   "nbconvert_exporter": "python",
   "pygments_lexer": "ipython2",
   "version": "2.7.6"
  }
 },
 "nbformat": 4,
 "nbformat_minor": 0
}